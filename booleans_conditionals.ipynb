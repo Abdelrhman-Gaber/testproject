{
  "nbformat": 4,
  "nbformat_minor": 0,
  "metadata": {
    "kernelspec": {
      "display_name": "Python 3 (ipykernel)",
      "language": "python",
      "name": "python3"
    },
    "language_info": {
      "codemirror_mode": {
        "name": "ipython",
        "version": 3
      },
      "file_extension": ".py",
      "mimetype": "text/x-python",
      "name": "python",
      "nbconvert_exporter": "python",
      "pygments_lexer": "ipython3",
      "version": "3.8.10"
    },
    "toc": {
      "base_numbering": 1,
      "nav_menu": {},
      "number_sections": false,
      "sideBar": true,
      "skip_h1_title": false,
      "title_cell": "Table of Contents",
      "title_sidebar": "Contents",
      "toc_cell": false,
      "toc_position": {},
      "toc_section_display": true,
      "toc_window_display": true
    },
    "colab": {
      "name": "booleans_conditionals.ipynb",
      "provenance": []
    }
  },
  "cells": [
    {
      "cell_type": "markdown",
      "metadata": {
        "id": "bXEegdOj1lp9"
      },
      "source": [
        "# Boolean Logic, Boolean Operations and Conditional Logic\n",
        "\n",
        "In this notebook we will: \n",
        "- Understand `Boolean Logic`\n",
        "- Understand `Boolean Operations`\n",
        "- Learn how to use `Conditional Logic`"
      ]
    },
    {
      "cell_type": "markdown",
      "metadata": {
        "id": "1hi0A2CN1lqF"
      },
      "source": [
        "### Boolean Operators"
      ]
    },
    {
      "cell_type": "markdown",
      "metadata": {
        "id": "4RtmkuOh1lqH"
      },
      "source": [
        "Boolean logic refers to answering questions that have only a `True` or `False` answer."
      ]
    },
    {
      "cell_type": "markdown",
      "metadata": {
        "id": "KgjcZzC81lqJ"
      },
      "source": [
        "Boolean operators are examples of boolean questions.  What do you think the output of the following examples would be?"
      ]
    },
    {
      "cell_type": "code",
      "metadata": {
        "colab": {
          "base_uri": "https://localhost:8080/"
        },
        "id": "loWe_0IN1lqK",
        "outputId": "a5ea6199-3b1c-40fb-9ebb-203e1338c7c9"
      },
      "source": [
        "4<3 # less than"
      ],
      "execution_count": 1,
      "outputs": [
        {
          "output_type": "execute_result",
          "data": {
            "text/plain": [
              "False"
            ]
          },
          "metadata": {},
          "execution_count": 1
        }
      ]
    },
    {
      "cell_type": "code",
      "metadata": {
        "id": "vLMsy2LM1xtB"
      },
      "source": [
        "x = True"
      ],
      "execution_count": 2,
      "outputs": []
    },
    {
      "cell_type": "code",
      "metadata": {
        "colab": {
          "base_uri": "https://localhost:8080/"
        },
        "id": "LkTPdJS710fe",
        "outputId": "4e63aebf-f5b9-41fb-a7e0-8770769869b4"
      },
      "source": [
        "type(x)"
      ],
      "execution_count": 3,
      "outputs": [
        {
          "output_type": "execute_result",
          "data": {
            "text/plain": [
              "bool"
            ]
          },
          "metadata": {},
          "execution_count": 3
        }
      ]
    },
    {
      "cell_type": "code",
      "metadata": {
        "colab": {
          "base_uri": "https://localhost:8080/"
        },
        "id": "dwoVuc1L1lqP",
        "outputId": "b78fc8d1-718e-4635-b6aa-fca12c93497a"
      },
      "source": [
        "3>2 # greater than"
      ],
      "execution_count": 4,
      "outputs": [
        {
          "output_type": "execute_result",
          "data": {
            "text/plain": [
              "True"
            ]
          },
          "metadata": {},
          "execution_count": 4
        }
      ]
    },
    {
      "cell_type": "code",
      "metadata": {
        "colab": {
          "base_uri": "https://localhost:8080/"
        },
        "id": "yjoAxdHN1lqR",
        "outputId": "90725ec0-1e1c-4c53-f76f-d309fcd4d36c"
      },
      "source": [
        "3==4 # equal to =   =="
      ],
      "execution_count": 9,
      "outputs": [
        {
          "output_type": "execute_result",
          "data": {
            "text/plain": [
              "False"
            ]
          },
          "metadata": {},
          "execution_count": 9
        }
      ]
    },
    {
      "cell_type": "code",
      "metadata": {
        "id": "5AgYnOjI2KIC"
      },
      "source": [
        "x = 5\n",
        "y = 6"
      ],
      "execution_count": 5,
      "outputs": []
    },
    {
      "cell_type": "code",
      "metadata": {
        "id": "5s4jV1Ir2TYF"
      },
      "source": [
        "y  =  x"
      ],
      "execution_count": 6,
      "outputs": []
    },
    {
      "cell_type": "code",
      "metadata": {
        "colab": {
          "base_uri": "https://localhost:8080/"
        },
        "id": "FBVl1evr2bOp",
        "outputId": "0ae597eb-bdae-4040-80e3-43ba1d37eb3f"
      },
      "source": [
        "y"
      ],
      "execution_count": 7,
      "outputs": [
        {
          "output_type": "execute_result",
          "data": {
            "text/plain": [
              "5"
            ]
          },
          "metadata": {},
          "execution_count": 7
        }
      ]
    },
    {
      "cell_type": "code",
      "metadata": {
        "colab": {
          "base_uri": "https://localhost:8080/"
        },
        "id": "LolJH1T-1lqV",
        "outputId": "a483fc77-55ac-4517-bc4c-df229db0528a"
      },
      "source": [
        "3!=2 # not equal to"
      ],
      "execution_count": 10,
      "outputs": [
        {
          "output_type": "execute_result",
          "data": {
            "text/plain": [
              "True"
            ]
          },
          "metadata": {},
          "execution_count": 10
        }
      ]
    },
    {
      "cell_type": "code",
      "metadata": {
        "colab": {
          "base_uri": "https://localhost:8080/"
        },
        "id": "hXELorHE1lqW",
        "outputId": "b912803a-6e00-4a36-f4e1-a938473d23d4"
      },
      "source": [
        "3>=3 # greater or equal than"
      ],
      "execution_count": 11,
      "outputs": [
        {
          "output_type": "execute_result",
          "data": {
            "text/plain": [
              "True"
            ]
          },
          "metadata": {},
          "execution_count": 11
        }
      ]
    },
    {
      "cell_type": "code",
      "metadata": {
        "colab": {
          "base_uri": "https://localhost:8080/"
        },
        "id": "MwiRdEOy1lqZ",
        "outputId": "254b9a6e-b059-497f-f4ff-68d1bb70d8ee"
      },
      "source": [
        "2<=1 # less or equal than"
      ],
      "execution_count": 12,
      "outputs": [
        {
          "output_type": "execute_result",
          "data": {
            "text/plain": [
              "False"
            ]
          },
          "metadata": {},
          "execution_count": 12
        }
      ]
    },
    {
      "cell_type": "code",
      "metadata": {
        "colab": {
          "base_uri": "https://localhost:8080/"
        },
        "id": "O6Vo5BGP3G4O",
        "outputId": "b09d24fc-3984-470d-bfc9-b1385496e535"
      },
      "source": [
        "6**3"
      ],
      "execution_count": 14,
      "outputs": [
        {
          "output_type": "execute_result",
          "data": {
            "text/plain": [
              "216"
            ]
          },
          "metadata": {},
          "execution_count": 14
        }
      ]
    },
    {
      "cell_type": "markdown",
      "metadata": {
        "id": "6uYK3XyD1lqf"
      },
      "source": [
        "### Exercise\n",
        "\n",
        "Is $32^3$ greater than $5^6$?"
      ]
    },
    {
      "cell_type": "code",
      "metadata": {
        "id": "W306xh9r1lqg",
        "outputId": "46ab80cd-f470-451f-9fec-fb6e84c08d82"
      },
      "source": [
        "answer = # Write code here\n",
        "\n",
        "print(f\"The answer is {answer}\")"
      ],
      "execution_count": null,
      "outputs": [
        {
          "name": "stdout",
          "output_type": "stream",
          "text": [
            "The answer is True\n"
          ]
        }
      ]
    },
    {
      "cell_type": "markdown",
      "metadata": {
        "id": "tZIKkEbV1lqh"
      },
      "source": [
        "### Membership Test\n",
        "\n",
        "We can also use `in` and `not in` to identify substrings."
      ]
    },
    {
      "cell_type": "code",
      "metadata": {
        "colab": {
          "base_uri": "https://localhost:8080/"
        },
        "id": "rc_nlqKq1lqi",
        "outputId": "8477c1d3-4ea8-400d-ff99-34478bdccb21"
      },
      "source": [
        "'ber' in 'Albert'"
      ],
      "execution_count": 17,
      "outputs": [
        {
          "output_type": "execute_result",
          "data": {
            "text/plain": [
              "True"
            ]
          },
          "metadata": {},
          "execution_count": 17
        }
      ]
    },
    {
      "cell_type": "code",
      "metadata": {
        "colab": {
          "base_uri": "https://localhost:8080/"
        },
        "id": "Z9CKyj2L1lqm",
        "outputId": "e246b17c-f1b3-45c3-f391-b701167779c9"
      },
      "source": [
        "'bre' not in 'Albert'"
      ],
      "execution_count": 22,
      "outputs": [
        {
          "output_type": "execute_result",
          "data": {
            "text/plain": [
              "True"
            ]
          },
          "metadata": {},
          "execution_count": 22
        }
      ]
    },
    {
      "cell_type": "markdown",
      "metadata": {
        "id": "-J9ydqlp1lqn"
      },
      "source": [
        "### Logic Gates \n",
        "#### AND, OR and NOT\n",
        "\n",
        "- Below is a Truth Table for the __AND__, __OR__ and __NOT__ operations\n",
        "\n",
        "\n",
        "| A | B | A AND B | A OR B | NOT A |\n",
        "| :---: | :---: | :---: | :---: | :---: |\n",
        "| FALSE | FALSE | FALSE | FALSE | TRUE |\n",
        "| FALSE | TRUE | FALSE | TRUE | TRUE |\n",
        "| TRUE | FALSE | FALSE | TRUE | FALSE |\n",
        "| TRUE | TRUE | TRUE | TRUE | FALSE |"
      ]
    },
    {
      "cell_type": "code",
      "metadata": {
        "colab": {
          "base_uri": "https://localhost:8080/"
        },
        "id": "IyswJ6Xc1lqq",
        "outputId": "97981cec-72be-4dfa-db5a-5e46f3a86e92"
      },
      "source": [
        "3>2 and 2<1 # True and True => True"
      ],
      "execution_count": 24,
      "outputs": [
        {
          "output_type": "execute_result",
          "data": {
            "text/plain": [
              "False"
            ]
          },
          "metadata": {},
          "execution_count": 24
        }
      ]
    },
    {
      "cell_type": "code",
      "metadata": {
        "scrolled": true,
        "colab": {
          "base_uri": "https://localhost:8080/"
        },
        "id": "qUAIi4ub1lqr",
        "outputId": "7542f910-8212-4ba8-9535-55441ba3a266"
      },
      "source": [
        "3<1 or 2>10 # True or False => True"
      ],
      "execution_count": 26,
      "outputs": [
        {
          "output_type": "execute_result",
          "data": {
            "text/plain": [
              "False"
            ]
          },
          "metadata": {},
          "execution_count": 26
        }
      ]
    },
    {
      "cell_type": "code",
      "metadata": {
        "scrolled": true,
        "colab": {
          "base_uri": "https://localhost:8080/"
        },
        "id": "3tFILM681lqs",
        "outputId": "f9843126-6a9e-488a-f122-9bcec4c780e0"
      },
      "source": [
        "not 3>1 # not(True) => False"
      ],
      "execution_count": 27,
      "outputs": [
        {
          "output_type": "execute_result",
          "data": {
            "text/plain": [
              "False"
            ]
          },
          "metadata": {},
          "execution_count": 27
        }
      ]
    },
    {
      "cell_type": "markdown",
      "metadata": {
        "id": "YJpvjnQv1lqs"
      },
      "source": [
        "What do you think the output will be for the following cells?"
      ]
    },
    {
      "cell_type": "code",
      "metadata": {
        "colab": {
          "base_uri": "https://localhost:8080/"
        },
        "id": "SuAddJ7X1lqt",
        "outputId": "248a1dcd-0412-4370-fff1-0906b21e7ccd"
      },
      "source": [
        "age = 21\n",
        "weight = 120\n",
        "\n",
        "print(age > 18 and weight > 130)"
      ],
      "execution_count": 28,
      "outputs": [
        {
          "output_type": "stream",
          "name": "stdout",
          "text": [
            "False\n"
          ]
        }
      ]
    },
    {
      "cell_type": "code",
      "metadata": {
        "colab": {
          "base_uri": "https://localhost:8080/"
        },
        "id": "w0tO-T_j1lqu",
        "outputId": "27f687f7-41a9-4a3f-a0a2-32b880d061e5"
      },
      "source": [
        "print(age > 18 or weight > 130)"
      ],
      "execution_count": 29,
      "outputs": [
        {
          "output_type": "stream",
          "name": "stdout",
          "text": [
            "True\n"
          ]
        }
      ]
    },
    {
      "cell_type": "code",
      "metadata": {
        "colab": {
          "base_uri": "https://localhost:8080/"
        },
        "id": "euCcklll1lqw",
        "outputId": "0f0e74c0-58d6-4057-8a63-be43289a6c8f"
      },
      "source": [
        "print(age > 18 and not(weight > 130))"
      ],
      "execution_count": 30,
      "outputs": [
        {
          "output_type": "stream",
          "name": "stdout",
          "text": [
            "True\n"
          ]
        }
      ]
    },
    {
      "cell_type": "markdown",
      "metadata": {
        "id": "1GSLs4Yp1lqy"
      },
      "source": [
        "### Conditional Logic"
      ]
    },
    {
      "cell_type": "markdown",
      "metadata": {
        "id": "N_N8fXI11lqy"
      },
      "source": [
        "When modeling problems, we often want different behavior depending on the value of a variable. Let's look at an example of a simple `if` statement."
      ]
    },
    {
      "cell_type": "code",
      "metadata": {
        "id": "U1DKfNQG6Yui"
      },
      "source": [
        "if condition:\n",
        "  code \n",
        "  code here\n",
        "\n",
        " "
      ],
      "execution_count": null,
      "outputs": []
    },
    {
      "cell_type": "code",
      "metadata": {
        "colab": {
          "base_uri": "https://localhost:8080/"
        },
        "id": "F4kdYT7A8QtT",
        "outputId": "3564298b-f6e7-4ade-b2de-6e1a95a1fcce"
      },
      "source": [
        "! pip install pconst"
      ],
      "execution_count": 52,
      "outputs": [
        {
          "output_type": "stream",
          "name": "stdout",
          "text": [
            "Collecting pconst\n",
            "  Downloading pconst-1.0.0-py3-none-any.whl (5.3 kB)\n",
            "Installing collected packages: pconst\n",
            "Successfully installed pconst-1.0.0\n"
          ]
        }
      ]
    },
    {
      "cell_type": "code",
      "metadata": {
        "id": "CITHsczv8eqd"
      },
      "source": [
        "import pconst"
      ],
      "execution_count": 53,
      "outputs": []
    },
    {
      "cell_type": "code",
      "metadata": {
        "id": "aqEBz_3p8jj5"
      },
      "source": [
        "# to create constant you shoud do that because python it self doesn`t support constant\n",
        "pconst.const.pi=3.14"
      ],
      "execution_count": 54,
      "outputs": []
    },
    {
      "cell_type": "code",
      "metadata": {
        "colab": {
          "base_uri": "https://localhost:8080/"
        },
        "id": "uWFRqsFSAQyu",
        "outputId": "3657398c-0a45-448f-9f74-6fc371ba6a2e"
      },
      "source": [
        "print(pconst.const.pi)"
      ],
      "execution_count": 56,
      "outputs": [
        {
          "output_type": "stream",
          "name": "stdout",
          "text": [
            "3.14\n"
          ]
        }
      ]
    },
    {
      "cell_type": "code",
      "metadata": {
        "id": "8F_grczl1lq1",
        "outputId": "3a636dce-60ff-4ab8-ab61-8486cff2d30c"
      },
      "source": [
        "number = 12\n",
        "if number % 2 == 0:\n",
        "    print(f\"{number} is an even number\")"
      ],
      "execution_count": null,
      "outputs": [
        {
          "name": "stdout",
          "output_type": "stream",
          "text": [
            "12 is an even number\n"
          ]
        }
      ]
    },
    {
      "cell_type": "code",
      "metadata": {
        "colab": {
          "base_uri": "https://localhost:8080/",
          "height": 296
        },
        "id": "M34-fFtA8o9i",
        "outputId": "f2fbb774-858a-4c2e-9ae9-ad493c6982a2"
      },
      "source": [
        "constants.Constants()"
      ],
      "execution_count": 50,
      "outputs": [
        {
          "output_type": "error",
          "ename": "TypeError",
          "evalue": "ignored",
          "traceback": [
            "\u001b[0;31m---------------------------------------------------------------------------\u001b[0m",
            "\u001b[0;31mTypeError\u001b[0m                                 Traceback (most recent call last)",
            "\u001b[0;32m<ipython-input-50-84fb0567d847>\u001b[0m in \u001b[0;36m<module>\u001b[0;34m()\u001b[0m\n\u001b[0;32m----> 1\u001b[0;31m \u001b[0mconstants\u001b[0m\u001b[0;34m.\u001b[0m\u001b[0mConstants\u001b[0m\u001b[0;34m(\u001b[0m\u001b[0mPI\u001b[0m\u001b[0;34m)\u001b[0m\u001b[0;34m\u001b[0m\u001b[0;34m\u001b[0m\u001b[0m\n\u001b[0m",
            "\u001b[0;32m/usr/local/lib/python3.7/dist-packages/constants.py\u001b[0m in \u001b[0;36mwrapper\u001b[0;34m(*args, **kvargs)\u001b[0m\n\u001b[1;32m     28\u001b[0m                      \u001b[0mkvargs\u001b[0m\u001b[0;34m,\u001b[0m\u001b[0;34m\u001b[0m\u001b[0;34m\u001b[0m\u001b[0m\n\u001b[1;32m     29\u001b[0m                      extra={'method': function.__name__})\n\u001b[0;32m---> 30\u001b[0;31m         \u001b[0mresult\u001b[0m \u001b[0;34m=\u001b[0m \u001b[0mfunction\u001b[0m\u001b[0;34m(\u001b[0m\u001b[0;34m*\u001b[0m\u001b[0margs\u001b[0m\u001b[0;34m,\u001b[0m \u001b[0;34m**\u001b[0m\u001b[0mkvargs\u001b[0m\u001b[0;34m)\u001b[0m\u001b[0;34m\u001b[0m\u001b[0;34m\u001b[0m\u001b[0m\n\u001b[0m\u001b[1;32m     31\u001b[0m         \u001b[0mlogger\u001b[0m\u001b[0;34m.\u001b[0m\u001b[0mdebug\u001b[0m\u001b[0;34m(\u001b[0m\u001b[0;34m'end %s'\u001b[0m\u001b[0;34m,\u001b[0m \u001b[0mresult\u001b[0m\u001b[0;34m,\u001b[0m \u001b[0mextra\u001b[0m\u001b[0;34m=\u001b[0m\u001b[0;34m{\u001b[0m\u001b[0;34m'method'\u001b[0m\u001b[0;34m:\u001b[0m \u001b[0mfunction\u001b[0m\u001b[0;34m.\u001b[0m\u001b[0m__name__\u001b[0m\u001b[0;34m}\u001b[0m\u001b[0;34m)\u001b[0m\u001b[0;34m\u001b[0m\u001b[0;34m\u001b[0m\u001b[0m\n\u001b[1;32m     32\u001b[0m         \u001b[0;32mreturn\u001b[0m \u001b[0mresult\u001b[0m\u001b[0;34m\u001b[0m\u001b[0;34m\u001b[0m\u001b[0m\n",
            "\u001b[0;32m/usr/local/lib/python3.7/dist-packages/constants.py\u001b[0m in \u001b[0;36m__init__\u001b[0;34m(self, variable, filename)\u001b[0m\n\u001b[1;32m     51\u001b[0m         \u001b[0mself\u001b[0m\u001b[0;34m.\u001b[0m\u001b[0mvariable\u001b[0m \u001b[0;34m=\u001b[0m \u001b[0mvariable\u001b[0m\u001b[0;34m\u001b[0m\u001b[0;34m\u001b[0m\u001b[0m\n\u001b[1;32m     52\u001b[0m         \u001b[0mself\u001b[0m\u001b[0;34m.\u001b[0m\u001b[0mfilename\u001b[0m \u001b[0;34m=\u001b[0m \u001b[0mfilename\u001b[0m\u001b[0;34m\u001b[0m\u001b[0;34m\u001b[0m\u001b[0m\n\u001b[0;32m---> 53\u001b[0;31m         \u001b[0mself\u001b[0m\u001b[0;34m.\u001b[0m\u001b[0mload\u001b[0m\u001b[0;34m(\u001b[0m\u001b[0;34m)\u001b[0m\u001b[0;34m\u001b[0m\u001b[0;34m\u001b[0m\u001b[0m\n\u001b[0m\u001b[1;32m     54\u001b[0m \u001b[0;34m\u001b[0m\u001b[0m\n\u001b[1;32m     55\u001b[0m     \u001b[0;34m@\u001b[0m\u001b[0mdebug\u001b[0m\u001b[0;34m\u001b[0m\u001b[0;34m\u001b[0m\u001b[0m\n",
            "\u001b[0;32m/usr/local/lib/python3.7/dist-packages/constants.py\u001b[0m in \u001b[0;36mwrapper\u001b[0;34m(*args, **kvargs)\u001b[0m\n\u001b[1;32m     28\u001b[0m                      \u001b[0mkvargs\u001b[0m\u001b[0;34m,\u001b[0m\u001b[0;34m\u001b[0m\u001b[0;34m\u001b[0m\u001b[0m\n\u001b[1;32m     29\u001b[0m                      extra={'method': function.__name__})\n\u001b[0;32m---> 30\u001b[0;31m         \u001b[0mresult\u001b[0m \u001b[0;34m=\u001b[0m \u001b[0mfunction\u001b[0m\u001b[0;34m(\u001b[0m\u001b[0;34m*\u001b[0m\u001b[0margs\u001b[0m\u001b[0;34m,\u001b[0m \u001b[0;34m**\u001b[0m\u001b[0mkvargs\u001b[0m\u001b[0;34m)\u001b[0m\u001b[0;34m\u001b[0m\u001b[0;34m\u001b[0m\u001b[0m\n\u001b[0m\u001b[1;32m     31\u001b[0m         \u001b[0mlogger\u001b[0m\u001b[0;34m.\u001b[0m\u001b[0mdebug\u001b[0m\u001b[0;34m(\u001b[0m\u001b[0;34m'end %s'\u001b[0m\u001b[0;34m,\u001b[0m \u001b[0mresult\u001b[0m\u001b[0;34m,\u001b[0m \u001b[0mextra\u001b[0m\u001b[0;34m=\u001b[0m\u001b[0;34m{\u001b[0m\u001b[0;34m'method'\u001b[0m\u001b[0;34m:\u001b[0m \u001b[0mfunction\u001b[0m\u001b[0;34m.\u001b[0m\u001b[0m__name__\u001b[0m\u001b[0;34m}\u001b[0m\u001b[0;34m)\u001b[0m\u001b[0;34m\u001b[0m\u001b[0;34m\u001b[0m\u001b[0m\n\u001b[1;32m     32\u001b[0m         \u001b[0;32mreturn\u001b[0m \u001b[0mresult\u001b[0m\u001b[0;34m\u001b[0m\u001b[0;34m\u001b[0m\u001b[0m\n",
            "\u001b[0;32m/usr/local/lib/python3.7/dist-packages/constants.py\u001b[0m in \u001b[0;36mload\u001b[0;34m(self)\u001b[0m\n\u001b[1;32m     58\u001b[0m         \u001b[0mload\u001b[0m \u001b[0mthe\u001b[0m \u001b[0msection\u001b[0m \u001b[0mself\u001b[0m\u001b[0;34m.\u001b[0m\u001b[0mvariable\u001b[0m \u001b[0;32mfrom\u001b[0m \u001b[0mthe\u001b[0m \u001b[0mconfig\u001b[0m \u001b[0mfile\u001b[0m \u001b[0mself\u001b[0m\u001b[0;34m.\u001b[0m\u001b[0mfilename\u001b[0m\u001b[0;34m\u001b[0m\u001b[0;34m\u001b[0m\u001b[0m\n\u001b[1;32m     59\u001b[0m         \"\"\"\n\u001b[0;32m---> 60\u001b[0;31m         \u001b[0mself\u001b[0m\u001b[0;34m.\u001b[0m\u001b[0mget_environment\u001b[0m\u001b[0;34m(\u001b[0m\u001b[0;34m)\u001b[0m\u001b[0;34m\u001b[0m\u001b[0;34m\u001b[0m\u001b[0m\n\u001b[0m\u001b[1;32m     61\u001b[0m         \u001b[0mself\u001b[0m\u001b[0;34m.\u001b[0m\u001b[0mread_config\u001b[0m\u001b[0;34m(\u001b[0m\u001b[0;34m)\u001b[0m\u001b[0;34m\u001b[0m\u001b[0;34m\u001b[0m\u001b[0m\n\u001b[1;32m     62\u001b[0m         \u001b[0mself\u001b[0m\u001b[0;34m.\u001b[0m\u001b[0mload_dict\u001b[0m\u001b[0;34m(\u001b[0m\u001b[0;34m)\u001b[0m\u001b[0;34m\u001b[0m\u001b[0;34m\u001b[0m\u001b[0m\n",
            "\u001b[0;32m/usr/local/lib/python3.7/dist-packages/constants.py\u001b[0m in \u001b[0;36mwrapper\u001b[0;34m(*args, **kvargs)\u001b[0m\n\u001b[1;32m     28\u001b[0m                      \u001b[0mkvargs\u001b[0m\u001b[0;34m,\u001b[0m\u001b[0;34m\u001b[0m\u001b[0;34m\u001b[0m\u001b[0m\n\u001b[1;32m     29\u001b[0m                      extra={'method': function.__name__})\n\u001b[0;32m---> 30\u001b[0;31m         \u001b[0mresult\u001b[0m \u001b[0;34m=\u001b[0m \u001b[0mfunction\u001b[0m\u001b[0;34m(\u001b[0m\u001b[0;34m*\u001b[0m\u001b[0margs\u001b[0m\u001b[0;34m,\u001b[0m \u001b[0;34m**\u001b[0m\u001b[0mkvargs\u001b[0m\u001b[0;34m)\u001b[0m\u001b[0;34m\u001b[0m\u001b[0;34m\u001b[0m\u001b[0m\n\u001b[0m\u001b[1;32m     31\u001b[0m         \u001b[0mlogger\u001b[0m\u001b[0;34m.\u001b[0m\u001b[0mdebug\u001b[0m\u001b[0;34m(\u001b[0m\u001b[0;34m'end %s'\u001b[0m\u001b[0;34m,\u001b[0m \u001b[0mresult\u001b[0m\u001b[0;34m,\u001b[0m \u001b[0mextra\u001b[0m\u001b[0;34m=\u001b[0m\u001b[0;34m{\u001b[0m\u001b[0;34m'method'\u001b[0m\u001b[0;34m:\u001b[0m \u001b[0mfunction\u001b[0m\u001b[0;34m.\u001b[0m\u001b[0m__name__\u001b[0m\u001b[0;34m}\u001b[0m\u001b[0;34m)\u001b[0m\u001b[0;34m\u001b[0m\u001b[0;34m\u001b[0m\u001b[0m\n\u001b[1;32m     32\u001b[0m         \u001b[0;32mreturn\u001b[0m \u001b[0mresult\u001b[0m\u001b[0;34m\u001b[0m\u001b[0;34m\u001b[0m\u001b[0m\n",
            "\u001b[0;32m/usr/local/lib/python3.7/dist-packages/constants.py\u001b[0m in \u001b[0;36mget_environment\u001b[0;34m(self)\u001b[0m\n\u001b[1;32m     67\u001b[0m         \u001b[0mreturns\u001b[0m \u001b[0mthe\u001b[0m \u001b[0mvalue\u001b[0m \u001b[0mof\u001b[0m \u001b[0mthe\u001b[0m \u001b[0menvironment\u001b[0m \u001b[0mvariable\u001b[0m \u001b[0mself\u001b[0m\u001b[0;34m.\u001b[0m\u001b[0mvariable\u001b[0m\u001b[0;34m\u001b[0m\u001b[0;34m\u001b[0m\u001b[0m\n\u001b[1;32m     68\u001b[0m         \"\"\"\n\u001b[0;32m---> 69\u001b[0;31m         \u001b[0mself\u001b[0m\u001b[0;34m.\u001b[0m\u001b[0menvironment\u001b[0m \u001b[0;34m=\u001b[0m \u001b[0mos\u001b[0m\u001b[0;34m.\u001b[0m\u001b[0menviron\u001b[0m\u001b[0;34m[\u001b[0m\u001b[0mself\u001b[0m\u001b[0;34m.\u001b[0m\u001b[0mvariable\u001b[0m\u001b[0;34m]\u001b[0m\u001b[0;34m\u001b[0m\u001b[0;34m\u001b[0m\u001b[0m\n\u001b[0m\u001b[1;32m     70\u001b[0m \u001b[0;34m\u001b[0m\u001b[0m\n\u001b[1;32m     71\u001b[0m     \u001b[0;34m@\u001b[0m\u001b[0mdebug\u001b[0m\u001b[0;34m\u001b[0m\u001b[0;34m\u001b[0m\u001b[0m\n",
            "\u001b[0;32m/usr/lib/python3.7/os.py\u001b[0m in \u001b[0;36m__getitem__\u001b[0;34m(self, key)\u001b[0m\n\u001b[1;32m    676\u001b[0m     \u001b[0;32mdef\u001b[0m \u001b[0m__getitem__\u001b[0m\u001b[0;34m(\u001b[0m\u001b[0mself\u001b[0m\u001b[0;34m,\u001b[0m \u001b[0mkey\u001b[0m\u001b[0;34m)\u001b[0m\u001b[0;34m:\u001b[0m\u001b[0;34m\u001b[0m\u001b[0;34m\u001b[0m\u001b[0m\n\u001b[1;32m    677\u001b[0m         \u001b[0;32mtry\u001b[0m\u001b[0;34m:\u001b[0m\u001b[0;34m\u001b[0m\u001b[0;34m\u001b[0m\u001b[0m\n\u001b[0;32m--> 678\u001b[0;31m             \u001b[0mvalue\u001b[0m \u001b[0;34m=\u001b[0m \u001b[0mself\u001b[0m\u001b[0;34m.\u001b[0m\u001b[0m_data\u001b[0m\u001b[0;34m[\u001b[0m\u001b[0mself\u001b[0m\u001b[0;34m.\u001b[0m\u001b[0mencodekey\u001b[0m\u001b[0;34m(\u001b[0m\u001b[0mkey\u001b[0m\u001b[0;34m)\u001b[0m\u001b[0;34m]\u001b[0m\u001b[0;34m\u001b[0m\u001b[0;34m\u001b[0m\u001b[0m\n\u001b[0m\u001b[1;32m    679\u001b[0m         \u001b[0;32mexcept\u001b[0m \u001b[0mKeyError\u001b[0m\u001b[0;34m:\u001b[0m\u001b[0;34m\u001b[0m\u001b[0;34m\u001b[0m\u001b[0m\n\u001b[1;32m    680\u001b[0m             \u001b[0;31m# raise KeyError with the original key value\u001b[0m\u001b[0;34m\u001b[0m\u001b[0;34m\u001b[0m\u001b[0;34m\u001b[0m\u001b[0m\n",
            "\u001b[0;32m/usr/lib/python3.7/os.py\u001b[0m in \u001b[0;36mencode\u001b[0;34m(value)\u001b[0m\n\u001b[1;32m    754\u001b[0m         \u001b[0;32mdef\u001b[0m \u001b[0mencode\u001b[0m\u001b[0;34m(\u001b[0m\u001b[0mvalue\u001b[0m\u001b[0;34m)\u001b[0m\u001b[0;34m:\u001b[0m\u001b[0;34m\u001b[0m\u001b[0;34m\u001b[0m\u001b[0m\n\u001b[1;32m    755\u001b[0m             \u001b[0;32mif\u001b[0m \u001b[0;32mnot\u001b[0m \u001b[0misinstance\u001b[0m\u001b[0;34m(\u001b[0m\u001b[0mvalue\u001b[0m\u001b[0;34m,\u001b[0m \u001b[0mstr\u001b[0m\u001b[0;34m)\u001b[0m\u001b[0;34m:\u001b[0m\u001b[0;34m\u001b[0m\u001b[0;34m\u001b[0m\u001b[0m\n\u001b[0;32m--> 756\u001b[0;31m                 \u001b[0;32mraise\u001b[0m \u001b[0mTypeError\u001b[0m\u001b[0;34m(\u001b[0m\u001b[0;34m\"str expected, not %s\"\u001b[0m \u001b[0;34m%\u001b[0m \u001b[0mtype\u001b[0m\u001b[0;34m(\u001b[0m\u001b[0mvalue\u001b[0m\u001b[0;34m)\u001b[0m\u001b[0;34m.\u001b[0m\u001b[0m__name__\u001b[0m\u001b[0;34m)\u001b[0m\u001b[0;34m\u001b[0m\u001b[0;34m\u001b[0m\u001b[0m\n\u001b[0m\u001b[1;32m    757\u001b[0m             \u001b[0;32mreturn\u001b[0m \u001b[0mvalue\u001b[0m\u001b[0;34m.\u001b[0m\u001b[0mencode\u001b[0m\u001b[0;34m(\u001b[0m\u001b[0mencoding\u001b[0m\u001b[0;34m,\u001b[0m \u001b[0;34m'surrogateescape'\u001b[0m\u001b[0;34m)\u001b[0m\u001b[0;34m\u001b[0m\u001b[0;34m\u001b[0m\u001b[0m\n\u001b[1;32m    758\u001b[0m         \u001b[0;32mdef\u001b[0m \u001b[0mdecode\u001b[0m\u001b[0;34m(\u001b[0m\u001b[0mvalue\u001b[0m\u001b[0;34m)\u001b[0m\u001b[0;34m:\u001b[0m\u001b[0;34m\u001b[0m\u001b[0;34m\u001b[0m\u001b[0m\n",
            "\u001b[0;31mTypeError\u001b[0m: str expected, not float"
          ]
        }
      ]
    },
    {
      "cell_type": "markdown",
      "metadata": {
        "id": "8xEwDboG1lq6"
      },
      "source": [
        "In the code above, if the number is divisibe by 2, it will print out `12 is an even number`.  In other cases (i.e. number is an odd number) the program does not print anything out.\n",
        "\n",
        "Python uses _indentation_ to figure out what code belongs to the `if` statement. Let's look at a slightly more involved example before being more formal."
      ]
    },
    {
      "cell_type": "code",
      "metadata": {
        "id": "YZUlTyAs1lq7",
        "outputId": "6cd9742c-9148-4940-8ce0-00148a2ae796"
      },
      "source": [
        "number = 25\n",
        "if number % 2 == 0:\n",
        "    print(f\"{number} is an even number\")\n",
        "    print(f\"{number} is not an odd number\")\n",
        "else:\n",
        "    print(f\"{number} is an odd number\")\n",
        "    print(f\"{number} is not an even number\")\n",
        "print('-'*25)\n",
        "print(f\"{number} is a number\")"
      ],
      "execution_count": null,
      "outputs": [
        {
          "name": "stdout",
          "output_type": "stream",
          "text": [
            "25 is an odd number\n",
            "25 is not an even number\n",
            "-------------------------\n",
            "25 is a number\n"
          ]
        }
      ]
    },
    {
      "cell_type": "markdown",
      "metadata": {
        "id": "4ZyIrPDW1lq8"
      },
      "source": [
        "Okay, lets be a little more formal. We have:\n",
        "\n",
        "```python\n",
        "if (condition):  # note the colon, and the condition should return a True or False\n",
        "    # stuff that is indented\n",
        "    # will only run when \"condition\" is True\n",
        "    # if the condition is False, all this stuff\n",
        "    # is completely ignored\n",
        "    #\n",
        "    # We will call this indented thing a \"block\"\n",
        "else:            # note the colon\n",
        "    # stuff that is indented in this block\n",
        "    # will only run when \"condition\" is False\n",
        "    # if the condition is True, all this stuff is\n",
        "    # completely ignored\n",
        "   \n",
        "# Now we have no indentation any more\n",
        "# This runs regardless of the condition\n",
        "```\n",
        "\n",
        "- A colon indicates that we are about to start a new block\n",
        "- A block continues until we eliminate the indentation\n",
        "\n",
        "**DO NOT RUN THE NEXT CELL**\n",
        "Instead, try to predict what will be printed at the end. It is a silly exercise, but gives us some experience with thinking about `if` statements. Once you have a guess, you can run the cell."
      ]
    },
    {
      "cell_type": "code",
      "metadata": {
        "id": "AWdQaCip1lq_",
        "outputId": "c36504a9-9b68-4729-eb61-2f62da89815b"
      },
      "source": [
        "# DO NOT RUN ME\n",
        "\n",
        "test_val = 50\n",
        "\n",
        "if (test_val < 30):\n",
        "    print(\"abc\")\n",
        "else:\n",
        "    print(\"def\")\n",
        "\n",
        "    print(\"ijk\")\n",
        "\n",
        "print(\"xyz\")\n",
        "\n",
        "## What do you think will get printed out?"
      ],
      "execution_count": null,
      "outputs": [
        {
          "name": "stdout",
          "output_type": "stream",
          "text": [
            "def\n",
            "ijk\n",
            "xyz\n"
          ]
        }
      ]
    },
    {
      "cell_type": "code",
      "metadata": {
        "id": "u2-0F_bp1lrA",
        "outputId": "c653d57f-6049-429b-c142-6daf186be358"
      },
      "source": [
        "# DO NOT RUN ME\n",
        "\n",
        "the_code = 600\n",
        "\n",
        "if (the_code > 1000):\n",
        "    the_code = the_code - 1000\n",
        "    the_code = the_code + 3\n",
        "else:\n",
        "    the_code = 2*the_code \n",
        "\n",
        "    the_code = the_code + 1\n",
        "    print(\"Will this print?\")\n",
        "\n",
        "the_code = the_code + 3\n",
        "\n",
        "# What gets printed out?\n",
        "# Try and reason your way through rather than just running the cell\n",
        "print(the_code)"
      ],
      "execution_count": null,
      "outputs": [
        {
          "name": "stdout",
          "output_type": "stream",
          "text": [
            "Will this print?\n",
            "1204\n"
          ]
        }
      ]
    },
    {
      "cell_type": "markdown",
      "metadata": {
        "id": "iijL1MSV1lrB"
      },
      "source": [
        "`If-else` statements can also have more than one condition. See example below:"
      ]
    },
    {
      "cell_type": "code",
      "metadata": {
        "id": "pVuKHcz01lrB",
        "outputId": "71322dba-2179-4ba5-9bd3-e984341c5959"
      },
      "source": [
        "age = 72\n",
        "\n",
        "if age >= 65:\n",
        "    print(\"You are a senior!\")\n",
        "elif age >= 20:\n",
        "    print(\"You are an adult!\")\n",
        "elif age >= 13:\n",
        "    print(\"You are a teenager!\")\n",
        "else:\n",
        "    print(\"You are a child!\")"
      ],
      "execution_count": null,
      "outputs": [
        {
          "name": "stdout",
          "output_type": "stream",
          "text": [
            "You are a senior!\n"
          ]
        }
      ]
    },
    {
      "cell_type": "markdown",
      "metadata": {
        "id": "fgTZsRkn1lrC"
      },
      "source": [
        "Note that the order of the statements matter (see example below). Once the code encounters the first condition to that is `True`, it ignores all the remaining conditions."
      ]
    },
    {
      "cell_type": "code",
      "metadata": {
        "id": "890xGSGE1lrD",
        "outputId": "fae7ae03-6065-4cd0-cece-aa46a31dc90c"
      },
      "source": [
        "age = 72\n",
        "\n",
        "if age >= 0:\n",
        "    print(\"You are a child!\")\n",
        "elif age >= 13:\n",
        "    print(\"You are a teenager!\")\n",
        "elif age >= 20:\n",
        "    print(\"You are an adult!\")\n",
        "else:\n",
        "    print(\"You are a senior!\")\n"
      ],
      "execution_count": null,
      "outputs": [
        {
          "name": "stdout",
          "output_type": "stream",
          "text": [
            "You are a child!\n"
          ]
        }
      ]
    },
    {
      "cell_type": "markdown",
      "metadata": {
        "id": "FxiCwF_N1lrF"
      },
      "source": [
        "Here is a potential workaround."
      ]
    },
    {
      "cell_type": "code",
      "metadata": {
        "id": "CU_WeeX61lrG",
        "outputId": "e35c1cc0-3b75-4407-92d5-4cd12f900e5c"
      },
      "source": [
        "age = 72\n",
        "\n",
        "if age >= 0 and age < 13:\n",
        "    print(\"You are a child!\")\n",
        "elif age >= 13 and age < 20:\n",
        "    print(\"You are a teenager!\")\n",
        "elif age >= 20 and age < 65:\n",
        "    print(\"You are an adult!\")\n",
        "else:\n",
        "    print(\"You are a senior!\")"
      ],
      "execution_count": null,
      "outputs": [
        {
          "name": "stdout",
          "output_type": "stream",
          "text": [
            "You are a senior!\n"
          ]
        }
      ]
    },
    {
      "cell_type": "markdown",
      "metadata": {
        "id": "CE-y1MpO1lrI"
      },
      "source": [
        "We can also have _nested_ `if` statements. What do you think the following prints out?"
      ]
    },
    {
      "cell_type": "code",
      "metadata": {
        "id": "aYqFD2Xe1lrJ",
        "outputId": "2453db93-c776-41a6-d6bc-659bc6d402f8"
      },
      "source": [
        "name = \"Einstein\"\n",
        "age = 42\n",
        "voting_age = 18\n",
        "\n",
        "if age > voting_age:\n",
        "    if name == \"Einstein\":\n",
        "        print(\"You are a genius and you can vote!\")\n",
        "    else:\n",
        "        print(\"You are not a genius but you still can vote!\")\n",
        "else:\n",
        "    print(\"Sorry! You cannot vote!\")\n",
        "print(\"It's a sunny day!\")"
      ],
      "execution_count": null,
      "outputs": [
        {
          "name": "stdout",
          "output_type": "stream",
          "text": [
            "You are a genius and you can vote!\n",
            "It's a sunny day!\n"
          ]
        }
      ]
    },
    {
      "cell_type": "markdown",
      "metadata": {
        "id": "HhKcQ0AB1lrN"
      },
      "source": [
        "### Truth Value Testing\n",
        "\n",
        "When we write \n",
        "\n",
        "```python\n",
        "x = 'Clark'\n",
        "\n",
        "if (x):\n",
        "    # do stuff\n",
        "```\n",
        "Python will convert `x` to a boolean (bool(x)) behind the scenes (i.e. it will _cast_ `x` to a boolean). Let's have a look at what some different values of `x` get cast to:"
      ]
    },
    {
      "cell_type": "code",
      "metadata": {
        "id": "WttBH1s61lrO",
        "outputId": "f27fe5fb-697b-474c-89c2-982173768c72"
      },
      "source": [
        "x=5\n",
        "bool(x)"
      ],
      "execution_count": null,
      "outputs": [
        {
          "data": {
            "text/plain": [
              "True"
            ]
          },
          "execution_count": 29,
          "metadata": {},
          "output_type": "execute_result"
        }
      ]
    },
    {
      "cell_type": "code",
      "metadata": {
        "id": "Eo8r7U8j1lrP",
        "outputId": "b6c13182-1a4f-450e-f406-da5072f97969"
      },
      "source": [
        "x='Clark'\n",
        "bool(x)"
      ],
      "execution_count": null,
      "outputs": [
        {
          "data": {
            "text/plain": [
              "True"
            ]
          },
          "execution_count": 30,
          "metadata": {},
          "output_type": "execute_result"
        }
      ]
    },
    {
      "cell_type": "code",
      "metadata": {
        "id": "wiq5Jo6n1lrP",
        "outputId": "90889a8d-1a43-4c12-8135-416bae824192"
      },
      "source": [
        "# Lets make the output a little more readable\n",
        "x = 5\n",
        "print(f'Casting {x} to a boolean gives {bool(x)}')\n",
        "\n",
        "x = 'Clark'\n",
        "print(f'Casting {x} to a boolean gives {bool(x)}')\n",
        "\n",
        "x = 0\n",
        "print(f'Casting {x} to a boolean gives {bool(x)}')\n",
        "\n",
        "x = ''\n",
        "print(f'Casting {x} to a boolean gives {bool(x)}')\n",
        "\n",
        "x = 'a'\n",
        "print(f'Casting {x} to a boolean gives {bool(x)}')\n",
        "\n",
        "x = -1\n",
        "print(f'Casting {x} to a boolean gives {bool(x)}')\n",
        "\n",
        "x = 0.0\n",
        "print(f'Casting {x} to a boolean gives {bool(x)}')\n",
        "\n",
        "x = None\n",
        "print(f'Casting {x} to a boolean gives {bool(x)}')\n"
      ],
      "execution_count": null,
      "outputs": [
        {
          "name": "stdout",
          "output_type": "stream",
          "text": [
            "Casting 5 to a boolean gives True\n",
            "Casting Clark to a boolean gives True\n",
            "Casting 0 to a boolean gives False\n",
            "Casting  to a boolean gives False\n",
            "Casting a to a boolean gives True\n",
            "Casting -1 to a boolean gives True\n",
            "Casting 0.0 to a boolean gives False\n",
            "Casting None to a boolean gives False\n"
          ]
        }
      ]
    },
    {
      "cell_type": "markdown",
      "metadata": {
        "id": "8ijBs3sR1lrQ"
      },
      "source": [
        "Some rules for types we have seen (integers, floats, and strings):\n",
        "- `0` converts to `False`, all other numbers convert to `True`\n",
        "- `''` converts to `False`, all other strings convert to `True`\n",
        "- `None` converts to `False`"
      ]
    },
    {
      "cell_type": "code",
      "metadata": {
        "id": "U0IDXUbd1lrR",
        "outputId": "3d7fe48f-a230-4054-923b-017c69bdcf3e"
      },
      "source": [
        "value = 0 # Here are examples considered False: 0, False, '', None\n",
        "# Here are examples considered True, 1, 42, 33.3, 'a'\n",
        "\n",
        "if value:\n",
        "    print(\"It is considered True\")\n",
        "else:\n",
        "    print(\"It is considered False\")\n"
      ],
      "execution_count": null,
      "outputs": [
        {
          "name": "stdout",
          "output_type": "stream",
          "text": [
            "It is considered False\n"
          ]
        }
      ]
    },
    {
      "cell_type": "code",
      "metadata": {
        "id": "2PlNv3sb1lrS"
      },
      "source": [
        ""
      ],
      "execution_count": null,
      "outputs": []
    },
    {
      "cell_type": "code",
      "metadata": {
        "id": "Q6759NWl1lrS"
      },
      "source": [
        ""
      ],
      "execution_count": null,
      "outputs": []
    }
  ]
}